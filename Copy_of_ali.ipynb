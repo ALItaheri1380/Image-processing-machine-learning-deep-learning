{
  "nbformat": 4,
  "nbformat_minor": 0,
  "metadata": {
    "colab": {
      "name": "Copy of ali.ipynb",
      "provenance": [],
      "collapsed_sections": [],
      "authorship_tag": "ABX9TyPs9XPC88T8X73CLS22DSIN",
      "include_colab_link": true
    },
    "kernelspec": {
      "name": "python3",
      "display_name": "Python 3"
    },
    "language_info": {
      "name": "python"
    },
    "accelerator": "GPU",
    "gpuClass": "standard"
  },
  "cells": [
    {
      "cell_type": "markdown",
      "metadata": {
        "id": "view-in-github",
        "colab_type": "text"
      },
      "source": [
        "<a href=\"https://colab.research.google.com/github/ALItaheri1380/ImageProcessing/blob/main/Copy_of_ali.ipynb\" target=\"_parent\"><img src=\"https://colab.research.google.com/assets/colab-badge.svg\" alt=\"Open In Colab\"/></a>"
      ]
    },
    {
      "cell_type": "code",
      "execution_count": null,
      "metadata": {
        "id": "A4-u7Rv39yiL"
      },
      "outputs": [],
      "source": [
        "import pandas as pd\n",
        "import numpy as np\n",
        "import seaborn as sns; sns.set()\n",
        "from tensorflow import keras\n",
        "from keras.constraints import maxnorm\n",
        "from sklearn.preprocessing import OneHotEncoder\n",
        "from keras.models import Sequential, load_model\n",
        "from keras.layers import Conv2D, MaxPool2D, Dense, Dropout, Flatten\n",
        "from keras.layers import BatchNormalization\n",
        "from keras.callbacks import EarlyStopping\n",
        "from sklearn.metrics import confusion_matrix\n",
        "from keras.utils import np_utils\n",
        "from keras.datasets import cifar10\n",
        "import matplotlib.pyplot as plt"
      ]
    },
    {
      "cell_type": "code",
      "source": [
        "(x_train , y_train) , (x_test , y_test) = cifar10.load_data()"
      ],
      "metadata": {
        "id": "3MnsVbuSAtRX"
      },
      "execution_count": null,
      "outputs": []
    },
    {
      "cell_type": "code",
      "source": [
        "#normalize \n",
        "x_train = x_train.astype('float64')\n",
        "\n",
        "x_train /= 255 \n",
        "\n",
        "x_test = x_test.astype('float64')\n",
        "\n",
        "x_test /= 255\n",
        "\n",
        "# onehot encoding\n",
        "\n",
        "y_train = np_utils.to_categorical(y_train)\n",
        "\n",
        "y_test = np_utils.to_categorical(y_test)"
      ],
      "metadata": {
        "id": "m2nnR1wtU70a"
      },
      "execution_count": null,
      "outputs": []
    },
    {
      "cell_type": "code",
      "source": [
        "sample = y_test.shape[1]"
      ],
      "metadata": {
        "id": "4ROYbaVGU_nJ"
      },
      "execution_count": null,
      "outputs": []
    },
    {
      "cell_type": "code",
      "source": [
        "model = Sequential()\n",
        "model.add(Conv2D(32, (3,3), (1 , 1), input_shape=(32 , 32 , 3), activation='relu'))\n",
        "model.add(Dropout(0.2))\n",
        "model.add(BatchNormalization())\n",
        "model.add(Conv2D(64, (3,3), (1 , 1), activation='relu'))\n",
        "model.add(MaxPool2D(2))\n",
        "model.add(Dropout(0.2))\n",
        "model.add(BatchNormalization())\n",
        "\n",
        "model.add(Conv2D(64, (3,3), (1 , 1), activation='relu'))\n",
        "model.add(MaxPool2D(2))\n",
        "model.add(Dropout(0.2))\n",
        "model.add(BatchNormalization())\n",
        "\n",
        "model.add(Conv2D(128, (3,3), (1 , 1), activation='relu'))\n",
        "model.add(Dropout(0.2))\n",
        "model.add(BatchNormalization())\n",
        "\n",
        "model.add(Flatten())\n",
        "model.add(Dropout(0.2))\n",
        "\n",
        "model.add(Dense(32, activation='relu'))\n",
        "model.add(Dropout(0.2))\n",
        "model.add(BatchNormalization())\n",
        "\n",
        "model.add(Dense(sample, activation = 'softmax'))"
      ],
      "metadata": {
        "id": "Nnejz5nZVD9p"
      },
      "execution_count": null,
      "outputs": []
    },
    {
      "cell_type": "code",
      "source": [
        "model.compile(loss='categorical_crossentropy', optimizer = 'adam', metrics = ['accuracy'])"
      ],
      "metadata": {
        "id": "cNshBXXcVJL5"
      },
      "execution_count": null,
      "outputs": []
    },
    {
      "cell_type": "code",
      "source": [
        "myHis = model.fit(x_train , y_train , validation_data = (x_test , y_test) ,  epochs=32, batch_size=85)"
      ],
      "metadata": {
        "colab": {
          "base_uri": "https://localhost:8080/"
        },
        "id": "qzZBJYwwW-E5",
        "outputId": "a5947611-a4c9-4a94-b3a6-b43896ca728f"
      },
      "execution_count": null,
      "outputs": [
        {
          "output_type": "stream",
          "name": "stdout",
          "text": [
            "Epoch 1/32\n",
            "589/589 [==============================] - 22s 13ms/step - loss: 1.6243 - accuracy: 0.4129 - val_loss: 1.7525 - val_accuracy: 0.3690\n",
            "Epoch 2/32\n",
            "589/589 [==============================] - 7s 11ms/step - loss: 1.2090 - accuracy: 0.5683 - val_loss: 1.0145 - val_accuracy: 0.6371\n",
            "Epoch 3/32\n",
            "589/589 [==============================] - 7s 11ms/step - loss: 1.0261 - accuracy: 0.6384 - val_loss: 0.9132 - val_accuracy: 0.6768\n",
            "Epoch 4/32\n",
            "589/589 [==============================] - 7s 11ms/step - loss: 0.9239 - accuracy: 0.6764 - val_loss: 0.8925 - val_accuracy: 0.6866\n",
            "Epoch 5/32\n",
            "589/589 [==============================] - 7s 12ms/step - loss: 0.8493 - accuracy: 0.7071 - val_loss: 0.8464 - val_accuracy: 0.7046\n",
            "Epoch 6/32\n",
            "589/589 [==============================] - 7s 12ms/step - loss: 0.8048 - accuracy: 0.7232 - val_loss: 1.0461 - val_accuracy: 0.6457\n",
            "Epoch 7/32\n",
            "589/589 [==============================] - 7s 12ms/step - loss: 0.7667 - accuracy: 0.7337 - val_loss: 0.6876 - val_accuracy: 0.7586\n",
            "Epoch 8/32\n",
            "589/589 [==============================] - 7s 11ms/step - loss: 0.7374 - accuracy: 0.7444 - val_loss: 0.6514 - val_accuracy: 0.7753\n",
            "Epoch 9/32\n",
            "589/589 [==============================] - 7s 11ms/step - loss: 0.7059 - accuracy: 0.7566 - val_loss: 0.6903 - val_accuracy: 0.7652\n",
            "Epoch 10/32\n",
            "589/589 [==============================] - 7s 12ms/step - loss: 0.6835 - accuracy: 0.7626 - val_loss: 0.6478 - val_accuracy: 0.7746\n",
            "Epoch 11/32\n",
            "589/589 [==============================] - 7s 12ms/step - loss: 0.6691 - accuracy: 0.7672 - val_loss: 0.6585 - val_accuracy: 0.7760\n",
            "Epoch 12/32\n",
            "589/589 [==============================] - 7s 11ms/step - loss: 0.6586 - accuracy: 0.7737 - val_loss: 0.6236 - val_accuracy: 0.7886\n",
            "Epoch 13/32\n",
            "589/589 [==============================] - 7s 12ms/step - loss: 0.6353 - accuracy: 0.7814 - val_loss: 0.6199 - val_accuracy: 0.7863\n",
            "Epoch 14/32\n",
            "589/589 [==============================] - 7s 12ms/step - loss: 0.6231 - accuracy: 0.7839 - val_loss: 0.5884 - val_accuracy: 0.7989\n",
            "Epoch 15/32\n",
            "589/589 [==============================] - 7s 12ms/step - loss: 0.6122 - accuracy: 0.7888 - val_loss: 0.5935 - val_accuracy: 0.7961\n",
            "Epoch 16/32\n",
            "589/589 [==============================] - 7s 12ms/step - loss: 0.6036 - accuracy: 0.7912 - val_loss: 0.6214 - val_accuracy: 0.7889\n",
            "Epoch 17/32\n",
            "589/589 [==============================] - 7s 12ms/step - loss: 0.5942 - accuracy: 0.7946 - val_loss: 0.5775 - val_accuracy: 0.8020\n",
            "Epoch 18/32\n",
            "589/589 [==============================] - 7s 12ms/step - loss: 0.5820 - accuracy: 0.8000 - val_loss: 0.5551 - val_accuracy: 0.8091\n",
            "Epoch 19/32\n",
            "589/589 [==============================] - 7s 12ms/step - loss: 0.5719 - accuracy: 0.8032 - val_loss: 0.5761 - val_accuracy: 0.7991\n",
            "Epoch 20/32\n",
            "589/589 [==============================] - 7s 12ms/step - loss: 0.5632 - accuracy: 0.8029 - val_loss: 0.5940 - val_accuracy: 0.8021\n",
            "Epoch 21/32\n",
            "589/589 [==============================] - 7s 12ms/step - loss: 0.5507 - accuracy: 0.8089 - val_loss: 0.5572 - val_accuracy: 0.8142\n",
            "Epoch 22/32\n",
            "589/589 [==============================] - 7s 11ms/step - loss: 0.5459 - accuracy: 0.8111 - val_loss: 0.5768 - val_accuracy: 0.8044\n",
            "Epoch 23/32\n",
            "589/589 [==============================] - 7s 12ms/step - loss: 0.5408 - accuracy: 0.8133 - val_loss: 0.6129 - val_accuracy: 0.7915\n",
            "Epoch 24/32\n",
            "589/589 [==============================] - 7s 12ms/step - loss: 0.5388 - accuracy: 0.8144 - val_loss: 0.5382 - val_accuracy: 0.8211\n",
            "Epoch 25/32\n",
            "589/589 [==============================] - 7s 12ms/step - loss: 0.5356 - accuracy: 0.8138 - val_loss: 0.5468 - val_accuracy: 0.8144\n",
            "Epoch 26/32\n",
            "589/589 [==============================] - 7s 12ms/step - loss: 0.5283 - accuracy: 0.8129 - val_loss: 0.5329 - val_accuracy: 0.8197\n",
            "Epoch 27/32\n",
            "589/589 [==============================] - 7s 12ms/step - loss: 0.5179 - accuracy: 0.8183 - val_loss: 0.5361 - val_accuracy: 0.8207\n",
            "Epoch 28/32\n",
            "589/589 [==============================] - 7s 11ms/step - loss: 0.5094 - accuracy: 0.8237 - val_loss: 0.5510 - val_accuracy: 0.8109\n",
            "Epoch 29/32\n",
            "589/589 [==============================] - 7s 11ms/step - loss: 0.5146 - accuracy: 0.8211 - val_loss: 0.5749 - val_accuracy: 0.8061\n",
            "Epoch 30/32\n",
            "589/589 [==============================] - 7s 11ms/step - loss: 0.5185 - accuracy: 0.8208 - val_loss: 0.6735 - val_accuracy: 0.7831\n",
            "Epoch 31/32\n",
            "589/589 [==============================] - 7s 12ms/step - loss: 0.5011 - accuracy: 0.8249 - val_loss: 0.5235 - val_accuracy: 0.8207\n",
            "Epoch 32/32\n",
            "589/589 [==============================] - 7s 11ms/step - loss: 0.5005 - accuracy: 0.8241 - val_loss: 0.5241 - val_accuracy: 0.8207\n"
          ]
        }
      ]
    },
    {
      "cell_type": "code",
      "source": [
        "#you must find max index and check\n",
        "model.predict(x_test[:10])[4]"
      ],
      "metadata": {
        "colab": {
          "base_uri": "https://localhost:8080/"
        },
        "id": "_H2X9bqXYDhA",
        "outputId": "21f4d1da-5f14-4554-dfc2-6d6b923f7cf8"
      },
      "execution_count": null,
      "outputs": [
        {
          "output_type": "execute_result",
          "data": {
            "text/plain": [
              "array([1.5621147e-08, 7.8600550e-08, 2.9346361e-04, 3.0515195e-05,\n",
              "       6.8713496e-03, 1.1565981e-05, 9.9279308e-01, 1.2598980e-08,\n",
              "       4.2164150e-08, 7.1407871e-09], dtype=float32)"
            ]
          },
          "metadata": {},
          "execution_count": 24
        }
      ]
    },
    {
      "cell_type": "code",
      "source": [
        "y_test[4]"
      ],
      "metadata": {
        "colab": {
          "base_uri": "https://localhost:8080/"
        },
        "id": "Aj2HNybrYL0h",
        "outputId": "c84ae363-2679-40b8-fde1-77fcc850c2e9"
      },
      "execution_count": null,
      "outputs": [
        {
          "output_type": "execute_result",
          "data": {
            "text/plain": [
              "array([0., 0., 0., 0., 0., 0., 1., 0., 0., 0.], dtype=float32)"
            ]
          },
          "metadata": {},
          "execution_count": 25
        }
      ]
    },
    {
      "cell_type": "code",
      "source": [
        "plt.imshow(x_test[4])"
      ],
      "metadata": {
        "colab": {
          "base_uri": "https://localhost:8080/",
          "height": 285
        },
        "id": "gPPvVV3qYaPh",
        "outputId": "ea9ce87c-fdf6-4f43-b439-1d3d953ce42d"
      },
      "execution_count": null,
      "outputs": [
        {
          "output_type": "execute_result",
          "data": {
            "text/plain": [
              "<matplotlib.image.AxesImage at 0x7f0b5405d250>"
            ]
          },
          "metadata": {},
          "execution_count": 28
        },
        {
          "output_type": "display_data",
          "data": {
            "text/plain": [
              "<Figure size 432x288 with 1 Axes>"
            ],
            "image/png": "[encoded data removed]"
          },
          "metadata": {}
        }
      ]
    }
  ]
}